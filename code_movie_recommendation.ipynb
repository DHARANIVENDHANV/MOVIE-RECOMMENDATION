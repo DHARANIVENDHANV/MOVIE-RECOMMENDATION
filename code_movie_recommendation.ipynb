{
 "cells": [
  {
   "cell_type": "code",
   "execution_count": 16,
   "metadata": {},
   "outputs": [
    {
     "name": "stdout",
     "output_type": "stream",
     "text": [
      "Requirement already satisfied: streamlit in c:\\users\\user\\anaconda3\\envs\\dharani_v\\lib\\site-packages (1.37.1)\n",
      "Requirement already satisfied: altair<6,>=4.0 in c:\\users\\user\\anaconda3\\envs\\dharani_v\\lib\\site-packages (from streamlit) (5.4.0)\n",
      "Requirement already satisfied: blinker<2,>=1.0.0 in c:\\users\\user\\anaconda3\\envs\\dharani_v\\lib\\site-packages (from streamlit) (1.8.2)\n",
      "Requirement already satisfied: cachetools<6,>=4.0 in c:\\users\\user\\anaconda3\\envs\\dharani_v\\lib\\site-packages (from streamlit) (5.5.0)\n",
      "Requirement already satisfied: click<9,>=7.0 in c:\\users\\user\\anaconda3\\envs\\dharani_v\\lib\\site-packages (from streamlit) (8.1.7)\n",
      "Requirement already satisfied: numpy<3,>=1.20 in c:\\users\\user\\anaconda3\\envs\\dharani_v\\lib\\site-packages (from streamlit) (1.21.6)\n",
      "Requirement already satisfied: packaging<25,>=20 in c:\\users\\user\\anaconda3\\envs\\dharani_v\\lib\\site-packages (from streamlit) (24.1)\n",
      "Requirement already satisfied: pandas<3,>=1.3.0 in c:\\users\\user\\anaconda3\\envs\\dharani_v\\lib\\site-packages (from streamlit) (1.3.5)\n",
      "Requirement already satisfied: pillow<11,>=7.1.0 in c:\\users\\user\\anaconda3\\envs\\dharani_v\\lib\\site-packages (from streamlit) (10.4.0)\n",
      "Requirement already satisfied: protobuf<6,>=3.20 in c:\\users\\user\\anaconda3\\envs\\dharani_v\\lib\\site-packages (from streamlit) (5.27.3)\n",
      "Requirement already satisfied: pyarrow>=7.0 in c:\\users\\user\\anaconda3\\envs\\dharani_v\\lib\\site-packages (from streamlit) (17.0.0)\n",
      "Requirement already satisfied: requests<3,>=2.27 in c:\\users\\user\\anaconda3\\envs\\dharani_v\\lib\\site-packages (from streamlit) (2.32.3)\n",
      "Requirement already satisfied: rich<14,>=10.14.0 in c:\\users\\user\\anaconda3\\envs\\dharani_v\\lib\\site-packages (from streamlit) (13.7.1)\n",
      "Requirement already satisfied: tenacity<9,>=8.1.0 in c:\\users\\user\\anaconda3\\envs\\dharani_v\\lib\\site-packages (from streamlit) (8.5.0)\n",
      "Requirement already satisfied: toml<2,>=0.10.1 in c:\\users\\user\\anaconda3\\envs\\dharani_v\\lib\\site-packages (from streamlit) (0.10.2)\n",
      "Requirement already satisfied: typing-extensions<5,>=4.3.0 in c:\\users\\user\\anaconda3\\envs\\dharani_v\\lib\\site-packages (from streamlit) (4.12.2)\n",
      "Requirement already satisfied: gitpython!=3.1.19,<4,>=3.0.7 in c:\\users\\user\\anaconda3\\envs\\dharani_v\\lib\\site-packages (from streamlit) (3.1.43)\n",
      "Requirement already satisfied: pydeck<1,>=0.8.0b4 in c:\\users\\user\\anaconda3\\envs\\dharani_v\\lib\\site-packages (from streamlit) (0.9.1)\n",
      "Requirement already satisfied: tornado<7,>=6.0.3 in c:\\users\\user\\anaconda3\\envs\\dharani_v\\lib\\site-packages (from streamlit) (6.2)\n",
      "Requirement already satisfied: watchdog<5,>=2.1.5 in c:\\users\\user\\anaconda3\\envs\\dharani_v\\lib\\site-packages (from streamlit) (4.0.2)\n",
      "Requirement already satisfied: jinja2 in c:\\users\\user\\anaconda3\\envs\\dharani_v\\lib\\site-packages (from altair<6,>=4.0->streamlit) (3.1.4)\n",
      "Requirement already satisfied: jsonschema>=3.0 in c:\\users\\user\\anaconda3\\envs\\dharani_v\\lib\\site-packages (from altair<6,>=4.0->streamlit) (4.23.0)\n",
      "Requirement already satisfied: narwhals>=1.1.0 in c:\\users\\user\\anaconda3\\envs\\dharani_v\\lib\\site-packages (from altair<6,>=4.0->streamlit) (1.5.4)\n",
      "Requirement already satisfied: colorama in c:\\users\\user\\anaconda3\\envs\\dharani_v\\lib\\site-packages (from click<9,>=7.0->streamlit) (0.4.6)\n",
      "Requirement already satisfied: gitdb<5,>=4.0.1 in c:\\users\\user\\anaconda3\\envs\\dharani_v\\lib\\site-packages (from gitpython!=3.1.19,<4,>=3.0.7->streamlit) (4.0.11)\n",
      "Requirement already satisfied: python-dateutil>=2.7.3 in c:\\users\\user\\anaconda3\\envs\\dharani_v\\lib\\site-packages (from pandas<3,>=1.3.0->streamlit) (2.9.0.post0)\n",
      "Requirement already satisfied: pytz>=2017.3 in c:\\users\\user\\anaconda3\\envs\\dharani_v\\lib\\site-packages (from pandas<3,>=1.3.0->streamlit) (2024.1)\n",
      "Requirement already satisfied: charset-normalizer<4,>=2 in c:\\users\\user\\anaconda3\\envs\\dharani_v\\lib\\site-packages (from requests<3,>=2.27->streamlit) (3.3.2)\n",
      "Requirement already satisfied: idna<4,>=2.5 in c:\\users\\user\\anaconda3\\envs\\dharani_v\\lib\\site-packages (from requests<3,>=2.27->streamlit) (3.8)\n",
      "Requirement already satisfied: urllib3<3,>=1.21.1 in c:\\users\\user\\anaconda3\\envs\\dharani_v\\lib\\site-packages (from requests<3,>=2.27->streamlit) (2.2.2)\n",
      "Requirement already satisfied: certifi>=2017.4.17 in c:\\users\\user\\anaconda3\\envs\\dharani_v\\lib\\site-packages (from requests<3,>=2.27->streamlit) (2024.7.4)\n",
      "Requirement already satisfied: markdown-it-py>=2.2.0 in c:\\users\\user\\anaconda3\\envs\\dharani_v\\lib\\site-packages (from rich<14,>=10.14.0->streamlit) (3.0.0)\n",
      "Requirement already satisfied: pygments<3.0.0,>=2.13.0 in c:\\users\\user\\anaconda3\\envs\\dharani_v\\lib\\site-packages (from rich<14,>=10.14.0->streamlit) (2.18.0)\n",
      "Requirement already satisfied: smmap<6,>=3.0.1 in c:\\users\\user\\anaconda3\\envs\\dharani_v\\lib\\site-packages (from gitdb<5,>=4.0.1->gitpython!=3.1.19,<4,>=3.0.7->streamlit) (5.0.1)\n",
      "Requirement already satisfied: MarkupSafe>=2.0 in c:\\users\\user\\anaconda3\\envs\\dharani_v\\lib\\site-packages (from jinja2->altair<6,>=4.0->streamlit) (2.1.5)\n",
      "Requirement already satisfied: attrs>=22.2.0 in c:\\users\\user\\anaconda3\\envs\\dharani_v\\lib\\site-packages (from jsonschema>=3.0->altair<6,>=4.0->streamlit) (24.2.0)\n",
      "Requirement already satisfied: jsonschema-specifications>=2023.03.6 in c:\\users\\user\\anaconda3\\envs\\dharani_v\\lib\\site-packages (from jsonschema>=3.0->altair<6,>=4.0->streamlit) (2023.12.1)\n",
      "Requirement already satisfied: referencing>=0.28.4 in c:\\users\\user\\anaconda3\\envs\\dharani_v\\lib\\site-packages (from jsonschema>=3.0->altair<6,>=4.0->streamlit) (0.35.1)\n",
      "Requirement already satisfied: rpds-py>=0.7.1 in c:\\users\\user\\anaconda3\\envs\\dharani_v\\lib\\site-packages (from jsonschema>=3.0->altair<6,>=4.0->streamlit) (0.20.0)\n",
      "Requirement already satisfied: mdurl~=0.1 in c:\\users\\user\\anaconda3\\envs\\dharani_v\\lib\\site-packages (from markdown-it-py>=2.2.0->rich<14,>=10.14.0->streamlit) (0.1.2)\n",
      "Requirement already satisfied: six>=1.5 in c:\\users\\user\\anaconda3\\envs\\dharani_v\\lib\\site-packages (from python-dateutil>=2.7.3->pandas<3,>=1.3.0->streamlit) (1.16.0)\n",
      "Requirement already satisfied: langchain-core in c:\\users\\user\\anaconda3\\envs\\dharani_v\\lib\\site-packages (0.2.34)\n",
      "Requirement already satisfied: PyYAML>=5.3 in c:\\users\\user\\anaconda3\\envs\\dharani_v\\lib\\site-packages (from langchain-core) (6.0.2)\n",
      "Requirement already satisfied: jsonpatch<2.0,>=1.33 in c:\\users\\user\\anaconda3\\envs\\dharani_v\\lib\\site-packages (from langchain-core) (1.33)\n",
      "Requirement already satisfied: langsmith<0.2.0,>=0.1.75 in c:\\users\\user\\anaconda3\\envs\\dharani_v\\lib\\site-packages (from langchain-core) (0.1.104)\n",
      "Requirement already satisfied: packaging<25,>=23.2 in c:\\users\\user\\anaconda3\\envs\\dharani_v\\lib\\site-packages (from langchain-core) (24.1)\n",
      "Requirement already satisfied: pydantic<3,>=1 in c:\\users\\user\\anaconda3\\envs\\dharani_v\\lib\\site-packages (from langchain-core) (2.8.2)\n",
      "Requirement already satisfied: tenacity!=8.4.0,<9.0.0,>=8.1.0 in c:\\users\\user\\anaconda3\\envs\\dharani_v\\lib\\site-packages (from langchain-core) (8.5.0)\n",
      "Requirement already satisfied: typing-extensions>=4.7 in c:\\users\\user\\anaconda3\\envs\\dharani_v\\lib\\site-packages (from langchain-core) (4.12.2)\n",
      "Requirement already satisfied: jsonpointer>=1.9 in c:\\users\\user\\anaconda3\\envs\\dharani_v\\lib\\site-packages (from jsonpatch<2.0,>=1.33->langchain-core) (3.0.0)\n",
      "Requirement already satisfied: httpx<1,>=0.23.0 in c:\\users\\user\\anaconda3\\envs\\dharani_v\\lib\\site-packages (from langsmith<0.2.0,>=0.1.75->langchain-core) (0.27.0)\n",
      "Requirement already satisfied: orjson<4.0.0,>=3.9.14 in c:\\users\\user\\anaconda3\\envs\\dharani_v\\lib\\site-packages (from langsmith<0.2.0,>=0.1.75->langchain-core) (3.10.7)\n",
      "Requirement already satisfied: requests<3,>=2 in c:\\users\\user\\anaconda3\\envs\\dharani_v\\lib\\site-packages (from langsmith<0.2.0,>=0.1.75->langchain-core) (2.32.3)\n",
      "Requirement already satisfied: annotated-types>=0.4.0 in c:\\users\\user\\anaconda3\\envs\\dharani_v\\lib\\site-packages (from pydantic<3,>=1->langchain-core) (0.7.0)\n",
      "Requirement already satisfied: pydantic-core==2.20.1 in c:\\users\\user\\anaconda3\\envs\\dharani_v\\lib\\site-packages (from pydantic<3,>=1->langchain-core) (2.20.1)\n",
      "Requirement already satisfied: anyio in c:\\users\\user\\anaconda3\\envs\\dharani_v\\lib\\site-packages (from httpx<1,>=0.23.0->langsmith<0.2.0,>=0.1.75->langchain-core) (4.4.0)\n",
      "Requirement already satisfied: certifi in c:\\users\\user\\anaconda3\\envs\\dharani_v\\lib\\site-packages (from httpx<1,>=0.23.0->langsmith<0.2.0,>=0.1.75->langchain-core) (2024.7.4)\n",
      "Requirement already satisfied: httpcore==1.* in c:\\users\\user\\anaconda3\\envs\\dharani_v\\lib\\site-packages (from httpx<1,>=0.23.0->langsmith<0.2.0,>=0.1.75->langchain-core) (1.0.5)\n",
      "Requirement already satisfied: idna in c:\\users\\user\\anaconda3\\envs\\dharani_v\\lib\\site-packages (from httpx<1,>=0.23.0->langsmith<0.2.0,>=0.1.75->langchain-core) (3.8)\n",
      "Requirement already satisfied: sniffio in c:\\users\\user\\anaconda3\\envs\\dharani_v\\lib\\site-packages (from httpx<1,>=0.23.0->langsmith<0.2.0,>=0.1.75->langchain-core) (1.3.1)\n",
      "Requirement already satisfied: h11<0.15,>=0.13 in c:\\users\\user\\anaconda3\\envs\\dharani_v\\lib\\site-packages (from httpcore==1.*->httpx<1,>=0.23.0->langsmith<0.2.0,>=0.1.75->langchain-core) (0.14.0)\n",
      "Requirement already satisfied: charset-normalizer<4,>=2 in c:\\users\\user\\anaconda3\\envs\\dharani_v\\lib\\site-packages (from requests<3,>=2->langsmith<0.2.0,>=0.1.75->langchain-core) (3.3.2)\n",
      "Requirement already satisfied: urllib3<3,>=1.21.1 in c:\\users\\user\\anaconda3\\envs\\dharani_v\\lib\\site-packages (from requests<3,>=2->langsmith<0.2.0,>=0.1.75->langchain-core) (2.2.2)\n",
      "Requirement already satisfied: exceptiongroup>=1.0.2 in c:\\users\\user\\anaconda3\\envs\\dharani_v\\lib\\site-packages (from anyio->httpx<1,>=0.23.0->langsmith<0.2.0,>=0.1.75->langchain-core) (1.2.2)\n",
      "Requirement already satisfied: langchain-core in c:\\users\\user\\anaconda3\\envs\\dharani_v\\lib\\site-packages (0.2.34)\n",
      "Requirement already satisfied: PyYAML>=5.3 in c:\\users\\user\\anaconda3\\envs\\dharani_v\\lib\\site-packages (from langchain-core) (6.0.2)\n",
      "Requirement already satisfied: jsonpatch<2.0,>=1.33 in c:\\users\\user\\anaconda3\\envs\\dharani_v\\lib\\site-packages (from langchain-core) (1.33)\n",
      "Requirement already satisfied: langsmith<0.2.0,>=0.1.75 in c:\\users\\user\\anaconda3\\envs\\dharani_v\\lib\\site-packages (from langchain-core) (0.1.104)\n",
      "Requirement already satisfied: packaging<25,>=23.2 in c:\\users\\user\\anaconda3\\envs\\dharani_v\\lib\\site-packages (from langchain-core) (24.1)\n",
      "Requirement already satisfied: pydantic<3,>=1 in c:\\users\\user\\anaconda3\\envs\\dharani_v\\lib\\site-packages (from langchain-core) (2.8.2)\n",
      "Requirement already satisfied: tenacity!=8.4.0,<9.0.0,>=8.1.0 in c:\\users\\user\\anaconda3\\envs\\dharani_v\\lib\\site-packages (from langchain-core) (8.5.0)\n",
      "Requirement already satisfied: typing-extensions>=4.7 in c:\\users\\user\\anaconda3\\envs\\dharani_v\\lib\\site-packages (from langchain-core) (4.12.2)\n",
      "Requirement already satisfied: jsonpointer>=1.9 in c:\\users\\user\\anaconda3\\envs\\dharani_v\\lib\\site-packages (from jsonpatch<2.0,>=1.33->langchain-core) (3.0.0)\n",
      "Requirement already satisfied: httpx<1,>=0.23.0 in c:\\users\\user\\anaconda3\\envs\\dharani_v\\lib\\site-packages (from langsmith<0.2.0,>=0.1.75->langchain-core) (0.27.0)\n",
      "Requirement already satisfied: orjson<4.0.0,>=3.9.14 in c:\\users\\user\\anaconda3\\envs\\dharani_v\\lib\\site-packages (from langsmith<0.2.0,>=0.1.75->langchain-core) (3.10.7)\n",
      "Requirement already satisfied: requests<3,>=2 in c:\\users\\user\\anaconda3\\envs\\dharani_v\\lib\\site-packages (from langsmith<0.2.0,>=0.1.75->langchain-core) (2.32.3)\n",
      "Requirement already satisfied: annotated-types>=0.4.0 in c:\\users\\user\\anaconda3\\envs\\dharani_v\\lib\\site-packages (from pydantic<3,>=1->langchain-core) (0.7.0)\n",
      "Requirement already satisfied: pydantic-core==2.20.1 in c:\\users\\user\\anaconda3\\envs\\dharani_v\\lib\\site-packages (from pydantic<3,>=1->langchain-core) (2.20.1)\n",
      "Requirement already satisfied: anyio in c:\\users\\user\\anaconda3\\envs\\dharani_v\\lib\\site-packages (from httpx<1,>=0.23.0->langsmith<0.2.0,>=0.1.75->langchain-core) (4.4.0)\n",
      "Requirement already satisfied: certifi in c:\\users\\user\\anaconda3\\envs\\dharani_v\\lib\\site-packages (from httpx<1,>=0.23.0->langsmith<0.2.0,>=0.1.75->langchain-core) (2024.7.4)\n",
      "Requirement already satisfied: httpcore==1.* in c:\\users\\user\\anaconda3\\envs\\dharani_v\\lib\\site-packages (from httpx<1,>=0.23.0->langsmith<0.2.0,>=0.1.75->langchain-core) (1.0.5)\n",
      "Requirement already satisfied: idna in c:\\users\\user\\anaconda3\\envs\\dharani_v\\lib\\site-packages (from httpx<1,>=0.23.0->langsmith<0.2.0,>=0.1.75->langchain-core) (3.8)\n",
      "Requirement already satisfied: sniffio in c:\\users\\user\\anaconda3\\envs\\dharani_v\\lib\\site-packages (from httpx<1,>=0.23.0->langsmith<0.2.0,>=0.1.75->langchain-core) (1.3.1)\n",
      "Requirement already satisfied: h11<0.15,>=0.13 in c:\\users\\user\\anaconda3\\envs\\dharani_v\\lib\\site-packages (from httpcore==1.*->httpx<1,>=0.23.0->langsmith<0.2.0,>=0.1.75->langchain-core) (0.14.0)\n",
      "Requirement already satisfied: charset-normalizer<4,>=2 in c:\\users\\user\\anaconda3\\envs\\dharani_v\\lib\\site-packages (from requests<3,>=2->langsmith<0.2.0,>=0.1.75->langchain-core) (3.3.2)\n",
      "Requirement already satisfied: urllib3<3,>=1.21.1 in c:\\users\\user\\anaconda3\\envs\\dharani_v\\lib\\site-packages (from requests<3,>=2->langsmith<0.2.0,>=0.1.75->langchain-core) (2.2.2)\n",
      "Requirement already satisfied: exceptiongroup>=1.0.2 in c:\\users\\user\\anaconda3\\envs\\dharani_v\\lib\\site-packages (from anyio->httpx<1,>=0.23.0->langsmith<0.2.0,>=0.1.75->langchain-core) (1.2.2)\n",
      "Requirement already satisfied: neo4j in c:\\users\\user\\anaconda3\\envs\\dharani_v\\lib\\site-packages (5.23.1)\n",
      "Requirement already satisfied: pytz in c:\\users\\user\\anaconda3\\envs\\dharani_v\\lib\\site-packages (from neo4j) (2024.1)\n"
     ]
    }
   ],
   "source": [
    "!pip install streamlit\n",
    "!pip install langchain-core\n",
    "!pip install langchain-core\n",
    "!pip install neo4j\n",
    "!pip install json-repair\n",
    "!pip install --upgrade --quiet langchain_experimental\n",
    "\n"
   ]
  },
  {
   "cell_type": "code",
   "execution_count": 1,
   "metadata": {},
   "outputs": [
    {
     "data": {
      "text/plain": [
       "Index(['Poster_Link', 'Series_Title', 'Released_Year', 'Certificate',\n",
       "       'Runtime', 'Genre', 'IMDB_Rating', 'Overview', 'Meta_score', 'Director',\n",
       "       'Star1', 'Star2', 'Star3', 'Star4', 'No_of_Votes', 'Gross'],\n",
       "      dtype='object')"
      ]
     },
     "execution_count": 1,
     "metadata": {},
     "output_type": "execute_result"
    }
   ],
   "source": [
    "import os\n",
    "import pandas as pd\n",
    "file_path = 'c:/Users/User/Desktop/movie_recommendations/imdb_top_1000.csv'\n",
    "df = pd.read_csv(file_path)\n",
    "df.columns\n",
    "\n",
    "\n"
   ]
  },
  {
   "cell_type": "code",
   "execution_count": 2,
   "metadata": {},
   "outputs": [
    {
     "data": {
      "text/html": [
       "<div>\n",
       "<style scoped>\n",
       "    .dataframe tbody tr th:only-of-type {\n",
       "        vertical-align: middle;\n",
       "    }\n",
       "\n",
       "    .dataframe tbody tr th {\n",
       "        vertical-align: top;\n",
       "    }\n",
       "\n",
       "    .dataframe thead th {\n",
       "        text-align: right;\n",
       "    }\n",
       "</style>\n",
       "<table border=\"1\" class=\"dataframe\">\n",
       "  <thead>\n",
       "    <tr style=\"text-align: right;\">\n",
       "      <th></th>\n",
       "      <th>Poster_Link</th>\n",
       "      <th>Series_Title</th>\n",
       "      <th>Released_Year</th>\n",
       "      <th>Certificate</th>\n",
       "      <th>Runtime</th>\n",
       "      <th>Genre</th>\n",
       "      <th>IMDB_Rating</th>\n",
       "      <th>Overview</th>\n",
       "      <th>Meta_score</th>\n",
       "      <th>Director</th>\n",
       "      <th>Star1</th>\n",
       "      <th>Star2</th>\n",
       "      <th>Star3</th>\n",
       "      <th>Star4</th>\n",
       "      <th>No_of_Votes</th>\n",
       "      <th>Gross</th>\n",
       "    </tr>\n",
       "  </thead>\n",
       "  <tbody>\n",
       "    <tr>\n",
       "      <th>0</th>\n",
       "      <td>https://m.media-amazon.com/images/M/MV5BMDFkYT...</td>\n",
       "      <td>The Shawshank Redemption</td>\n",
       "      <td>1994</td>\n",
       "      <td>A</td>\n",
       "      <td>142 min</td>\n",
       "      <td>Drama</td>\n",
       "      <td>9.3</td>\n",
       "      <td>Two imprisoned men bond over a number of years...</td>\n",
       "      <td>80.0</td>\n",
       "      <td>Frank Darabont</td>\n",
       "      <td>Tim Robbins</td>\n",
       "      <td>Morgan Freeman</td>\n",
       "      <td>Bob Gunton</td>\n",
       "      <td>William Sadler</td>\n",
       "      <td>2343110</td>\n",
       "      <td>28,341,469</td>\n",
       "    </tr>\n",
       "    <tr>\n",
       "      <th>1</th>\n",
       "      <td>https://m.media-amazon.com/images/M/MV5BM2MyNj...</td>\n",
       "      <td>The Godfather</td>\n",
       "      <td>1972</td>\n",
       "      <td>A</td>\n",
       "      <td>175 min</td>\n",
       "      <td>Crime, Drama</td>\n",
       "      <td>9.2</td>\n",
       "      <td>An organized crime dynasty's aging patriarch t...</td>\n",
       "      <td>100.0</td>\n",
       "      <td>Francis Ford Coppola</td>\n",
       "      <td>Marlon Brando</td>\n",
       "      <td>Al Pacino</td>\n",
       "      <td>James Caan</td>\n",
       "      <td>Diane Keaton</td>\n",
       "      <td>1620367</td>\n",
       "      <td>134,966,411</td>\n",
       "    </tr>\n",
       "    <tr>\n",
       "      <th>2</th>\n",
       "      <td>https://m.media-amazon.com/images/M/MV5BMTMxNT...</td>\n",
       "      <td>The Dark Knight</td>\n",
       "      <td>2008</td>\n",
       "      <td>UA</td>\n",
       "      <td>152 min</td>\n",
       "      <td>Action, Crime, Drama</td>\n",
       "      <td>9.0</td>\n",
       "      <td>When the menace known as the Joker wreaks havo...</td>\n",
       "      <td>84.0</td>\n",
       "      <td>Christopher Nolan</td>\n",
       "      <td>Christian Bale</td>\n",
       "      <td>Heath Ledger</td>\n",
       "      <td>Aaron Eckhart</td>\n",
       "      <td>Michael Caine</td>\n",
       "      <td>2303232</td>\n",
       "      <td>534,858,444</td>\n",
       "    </tr>\n",
       "    <tr>\n",
       "      <th>3</th>\n",
       "      <td>https://m.media-amazon.com/images/M/MV5BMWMwMG...</td>\n",
       "      <td>The Godfather: Part II</td>\n",
       "      <td>1974</td>\n",
       "      <td>A</td>\n",
       "      <td>202 min</td>\n",
       "      <td>Crime, Drama</td>\n",
       "      <td>9.0</td>\n",
       "      <td>The early life and career of Vito Corleone in ...</td>\n",
       "      <td>90.0</td>\n",
       "      <td>Francis Ford Coppola</td>\n",
       "      <td>Al Pacino</td>\n",
       "      <td>Robert De Niro</td>\n",
       "      <td>Robert Duvall</td>\n",
       "      <td>Diane Keaton</td>\n",
       "      <td>1129952</td>\n",
       "      <td>57,300,000</td>\n",
       "    </tr>\n",
       "    <tr>\n",
       "      <th>4</th>\n",
       "      <td>https://m.media-amazon.com/images/M/MV5BMWU4N2...</td>\n",
       "      <td>12 Angry Men</td>\n",
       "      <td>1957</td>\n",
       "      <td>U</td>\n",
       "      <td>96 min</td>\n",
       "      <td>Crime, Drama</td>\n",
       "      <td>9.0</td>\n",
       "      <td>A jury holdout attempts to prevent a miscarria...</td>\n",
       "      <td>96.0</td>\n",
       "      <td>Sidney Lumet</td>\n",
       "      <td>Henry Fonda</td>\n",
       "      <td>Lee J. Cobb</td>\n",
       "      <td>Martin Balsam</td>\n",
       "      <td>John Fiedler</td>\n",
       "      <td>689845</td>\n",
       "      <td>4,360,000</td>\n",
       "    </tr>\n",
       "    <tr>\n",
       "      <th>...</th>\n",
       "      <td>...</td>\n",
       "      <td>...</td>\n",
       "      <td>...</td>\n",
       "      <td>...</td>\n",
       "      <td>...</td>\n",
       "      <td>...</td>\n",
       "      <td>...</td>\n",
       "      <td>...</td>\n",
       "      <td>...</td>\n",
       "      <td>...</td>\n",
       "      <td>...</td>\n",
       "      <td>...</td>\n",
       "      <td>...</td>\n",
       "      <td>...</td>\n",
       "      <td>...</td>\n",
       "      <td>...</td>\n",
       "    </tr>\n",
       "    <tr>\n",
       "      <th>995</th>\n",
       "      <td>https://m.media-amazon.com/images/M/MV5BNGEwMT...</td>\n",
       "      <td>Breakfast at Tiffany's</td>\n",
       "      <td>1961</td>\n",
       "      <td>A</td>\n",
       "      <td>115 min</td>\n",
       "      <td>Comedy, Drama, Romance</td>\n",
       "      <td>7.6</td>\n",
       "      <td>A young New York socialite becomes interested ...</td>\n",
       "      <td>76.0</td>\n",
       "      <td>Blake Edwards</td>\n",
       "      <td>Audrey Hepburn</td>\n",
       "      <td>George Peppard</td>\n",
       "      <td>Patricia Neal</td>\n",
       "      <td>Buddy Ebsen</td>\n",
       "      <td>166544</td>\n",
       "      <td>NaN</td>\n",
       "    </tr>\n",
       "    <tr>\n",
       "      <th>996</th>\n",
       "      <td>https://m.media-amazon.com/images/M/MV5BODk3Yj...</td>\n",
       "      <td>Giant</td>\n",
       "      <td>1956</td>\n",
       "      <td>G</td>\n",
       "      <td>201 min</td>\n",
       "      <td>Drama, Western</td>\n",
       "      <td>7.6</td>\n",
       "      <td>Sprawling epic covering the life of a Texas ca...</td>\n",
       "      <td>84.0</td>\n",
       "      <td>George Stevens</td>\n",
       "      <td>Elizabeth Taylor</td>\n",
       "      <td>Rock Hudson</td>\n",
       "      <td>James Dean</td>\n",
       "      <td>Carroll Baker</td>\n",
       "      <td>34075</td>\n",
       "      <td>NaN</td>\n",
       "    </tr>\n",
       "    <tr>\n",
       "      <th>997</th>\n",
       "      <td>https://m.media-amazon.com/images/M/MV5BM2U3Yz...</td>\n",
       "      <td>From Here to Eternity</td>\n",
       "      <td>1953</td>\n",
       "      <td>Passed</td>\n",
       "      <td>118 min</td>\n",
       "      <td>Drama, Romance, War</td>\n",
       "      <td>7.6</td>\n",
       "      <td>In Hawaii in 1941, a private is cruelly punish...</td>\n",
       "      <td>85.0</td>\n",
       "      <td>Fred Zinnemann</td>\n",
       "      <td>Burt Lancaster</td>\n",
       "      <td>Montgomery Clift</td>\n",
       "      <td>Deborah Kerr</td>\n",
       "      <td>Donna Reed</td>\n",
       "      <td>43374</td>\n",
       "      <td>30,500,000</td>\n",
       "    </tr>\n",
       "    <tr>\n",
       "      <th>998</th>\n",
       "      <td>https://m.media-amazon.com/images/M/MV5BZTBmMj...</td>\n",
       "      <td>Lifeboat</td>\n",
       "      <td>1944</td>\n",
       "      <td>NaN</td>\n",
       "      <td>97 min</td>\n",
       "      <td>Drama, War</td>\n",
       "      <td>7.6</td>\n",
       "      <td>Several survivors of a torpedoed merchant ship...</td>\n",
       "      <td>78.0</td>\n",
       "      <td>Alfred Hitchcock</td>\n",
       "      <td>Tallulah Bankhead</td>\n",
       "      <td>John Hodiak</td>\n",
       "      <td>Walter Slezak</td>\n",
       "      <td>William Bendix</td>\n",
       "      <td>26471</td>\n",
       "      <td>NaN</td>\n",
       "    </tr>\n",
       "    <tr>\n",
       "      <th>999</th>\n",
       "      <td>https://m.media-amazon.com/images/M/MV5BMTY5OD...</td>\n",
       "      <td>The 39 Steps</td>\n",
       "      <td>1935</td>\n",
       "      <td>NaN</td>\n",
       "      <td>86 min</td>\n",
       "      <td>Crime, Mystery, Thriller</td>\n",
       "      <td>7.6</td>\n",
       "      <td>A man in London tries to help a counter-espion...</td>\n",
       "      <td>93.0</td>\n",
       "      <td>Alfred Hitchcock</td>\n",
       "      <td>Robert Donat</td>\n",
       "      <td>Madeleine Carroll</td>\n",
       "      <td>Lucie Mannheim</td>\n",
       "      <td>Godfrey Tearle</td>\n",
       "      <td>51853</td>\n",
       "      <td>NaN</td>\n",
       "    </tr>\n",
       "  </tbody>\n",
       "</table>\n",
       "<p>1000 rows × 16 columns</p>\n",
       "</div>"
      ],
      "text/plain": [
       "                                           Poster_Link  \\\n",
       "0    https://m.media-amazon.com/images/M/MV5BMDFkYT...   \n",
       "1    https://m.media-amazon.com/images/M/MV5BM2MyNj...   \n",
       "2    https://m.media-amazon.com/images/M/MV5BMTMxNT...   \n",
       "3    https://m.media-amazon.com/images/M/MV5BMWMwMG...   \n",
       "4    https://m.media-amazon.com/images/M/MV5BMWU4N2...   \n",
       "..                                                 ...   \n",
       "995  https://m.media-amazon.com/images/M/MV5BNGEwMT...   \n",
       "996  https://m.media-amazon.com/images/M/MV5BODk3Yj...   \n",
       "997  https://m.media-amazon.com/images/M/MV5BM2U3Yz...   \n",
       "998  https://m.media-amazon.com/images/M/MV5BZTBmMj...   \n",
       "999  https://m.media-amazon.com/images/M/MV5BMTY5OD...   \n",
       "\n",
       "                 Series_Title Released_Year Certificate  Runtime  \\\n",
       "0    The Shawshank Redemption          1994           A  142 min   \n",
       "1               The Godfather          1972           A  175 min   \n",
       "2             The Dark Knight          2008          UA  152 min   \n",
       "3      The Godfather: Part II          1974           A  202 min   \n",
       "4                12 Angry Men          1957           U   96 min   \n",
       "..                        ...           ...         ...      ...   \n",
       "995    Breakfast at Tiffany's          1961           A  115 min   \n",
       "996                     Giant          1956           G  201 min   \n",
       "997     From Here to Eternity          1953      Passed  118 min   \n",
       "998                  Lifeboat          1944         NaN   97 min   \n",
       "999              The 39 Steps          1935         NaN   86 min   \n",
       "\n",
       "                        Genre  IMDB_Rating  \\\n",
       "0                       Drama          9.3   \n",
       "1                Crime, Drama          9.2   \n",
       "2        Action, Crime, Drama          9.0   \n",
       "3                Crime, Drama          9.0   \n",
       "4                Crime, Drama          9.0   \n",
       "..                        ...          ...   \n",
       "995    Comedy, Drama, Romance          7.6   \n",
       "996            Drama, Western          7.6   \n",
       "997       Drama, Romance, War          7.6   \n",
       "998                Drama, War          7.6   \n",
       "999  Crime, Mystery, Thriller          7.6   \n",
       "\n",
       "                                              Overview  Meta_score  \\\n",
       "0    Two imprisoned men bond over a number of years...        80.0   \n",
       "1    An organized crime dynasty's aging patriarch t...       100.0   \n",
       "2    When the menace known as the Joker wreaks havo...        84.0   \n",
       "3    The early life and career of Vito Corleone in ...        90.0   \n",
       "4    A jury holdout attempts to prevent a miscarria...        96.0   \n",
       "..                                                 ...         ...   \n",
       "995  A young New York socialite becomes interested ...        76.0   \n",
       "996  Sprawling epic covering the life of a Texas ca...        84.0   \n",
       "997  In Hawaii in 1941, a private is cruelly punish...        85.0   \n",
       "998  Several survivors of a torpedoed merchant ship...        78.0   \n",
       "999  A man in London tries to help a counter-espion...        93.0   \n",
       "\n",
       "                 Director              Star1              Star2  \\\n",
       "0          Frank Darabont        Tim Robbins     Morgan Freeman   \n",
       "1    Francis Ford Coppola      Marlon Brando          Al Pacino   \n",
       "2       Christopher Nolan     Christian Bale       Heath Ledger   \n",
       "3    Francis Ford Coppola          Al Pacino     Robert De Niro   \n",
       "4            Sidney Lumet        Henry Fonda        Lee J. Cobb   \n",
       "..                    ...                ...                ...   \n",
       "995         Blake Edwards     Audrey Hepburn     George Peppard   \n",
       "996        George Stevens   Elizabeth Taylor        Rock Hudson   \n",
       "997        Fred Zinnemann     Burt Lancaster   Montgomery Clift   \n",
       "998      Alfred Hitchcock  Tallulah Bankhead        John Hodiak   \n",
       "999      Alfred Hitchcock       Robert Donat  Madeleine Carroll   \n",
       "\n",
       "              Star3           Star4  No_of_Votes        Gross  \n",
       "0        Bob Gunton  William Sadler      2343110   28,341,469  \n",
       "1        James Caan    Diane Keaton      1620367  134,966,411  \n",
       "2     Aaron Eckhart   Michael Caine      2303232  534,858,444  \n",
       "3     Robert Duvall    Diane Keaton      1129952   57,300,000  \n",
       "4     Martin Balsam    John Fiedler       689845    4,360,000  \n",
       "..              ...             ...          ...          ...  \n",
       "995   Patricia Neal     Buddy Ebsen       166544          NaN  \n",
       "996      James Dean   Carroll Baker        34075          NaN  \n",
       "997    Deborah Kerr      Donna Reed        43374   30,500,000  \n",
       "998   Walter Slezak  William Bendix        26471          NaN  \n",
       "999  Lucie Mannheim  Godfrey Tearle        51853          NaN  \n",
       "\n",
       "[1000 rows x 16 columns]"
      ]
     },
     "execution_count": 2,
     "metadata": {},
     "output_type": "execute_result"
    }
   ],
   "source": [
    "df"
   ]
  },
  {
   "cell_type": "code",
   "execution_count": 3,
   "metadata": {},
   "outputs": [],
   "source": [
    "index = [i for i in range(1,1001)]\n",
    "df.insert(0,\"index\",index)\n",
    "df.to_csv('c:/Users/User/Desktop/movie_recommendations/movie_dataset.csv') #c:\\Users\\User\\Desktop\\movie_recommendations\\movie_recommendation_streamlit.py"
   ]
  },
  {
   "cell_type": "code",
   "execution_count": 4,
   "metadata": {},
   "outputs": [
    {
     "data": {
      "text/plain": [
       "<langchain_community.graphs.neo4j_graph.Neo4jGraph at 0x168cb995a30>"
      ]
     },
     "execution_count": 4,
     "metadata": {},
     "output_type": "execute_result"
    }
   ],
   "source": [
    "\n",
    "from langchain_community.graphs import Neo4jGraph\n",
    "\n",
    "graph = Neo4jGraph(\n",
    "    url = \"neo4j://localhost:7687\",\n",
    "    username = \"neo4j\",\n",
    "    password = \"123456789\"\n",
    "    \n",
    ")\n",
    "\n",
    "graph"
   ]
  },
  {
   "cell_type": "code",
   "execution_count": 5,
   "metadata": {},
   "outputs": [],
   "source": [
    "from langchain_community.llms import Ollama\n",
    "\n",
    "llm = Ollama(model='orca-mini')"
   ]
  },
  {
   "cell_type": "code",
   "execution_count": 6,
   "metadata": {},
   "outputs": [
    {
     "data": {
      "text/plain": [
       "Index(['index', 'Poster_Link', 'Series_Title', 'Released_Year', 'Certificate',\n",
       "       'Runtime', 'Genre', 'IMDB_Rating', 'Overview', 'Meta_score', 'Director',\n",
       "       'Star1', 'Star2', 'Star3', 'Star4', 'No_of_Votes', 'Gross'],\n",
       "      dtype='object')"
      ]
     },
     "execution_count": 6,
     "metadata": {},
     "output_type": "execute_result"
    }
   ],
   "source": [
    "df.columns"
   ]
  },
  {
   "cell_type": "code",
   "execution_count": 19,
   "metadata": {},
   "outputs": [],
   "source": [
    "# movie_query = \"\"\"\n",
    "# LOAD CSV WITH HEADERS FROM 'c:/Users/User/Desktop/movie_recommendations/movie_dataset.csv' as row\n",
    "# MERGE(m:Movie{id:row.index})\n",
    "# SET m.released = date(row.Released_Year),\n",
    "#     m.title = row.Series_Title,\n",
    "#     m.imdbRating = toFloat(row.IMDB_Rating)\n",
    "#     m.certificate = row.Certificate,\n",
    "#     m.overview = row.Overview,\n",
    "#     m.time = row.Runtime\n",
    "# MERGE (p:Penson {name:Director})\n",
    "# MERGE (p)-[:DIRECTED]->(m))\n",
    "\n",
    "# MERGE (p:Penson {name:Star1})\n",
    "# MERGE (p)-[:ACTED]->(m))\n",
    "\n",
    "# MERGE (p:Penson {name:Star2})\n",
    "# MERGE (p)-[:ACTED]->(m))\n",
    "\n",
    "# MERGE (p:Penson {name:Star3})\n",
    "# MERGE (p)-[:ACTED]->(m))\n",
    "\n",
    "# MERGE (p:Penson {name:Star4})\n",
    "# MERGE (p)-[:ACTED]->(m))\n",
    "\n",
    "# FOREACH (Genre in row.Genre) |\n",
    "#     MERGE (g:Genre {name:Genre})\n",
    "#     MERGE (m)-[:Genre]->(g))\n",
    "\n",
    "# \"\"\"\n",
    "\n",
    "\n"
   ]
  },
  {
   "cell_type": "code",
   "execution_count": 7,
   "metadata": {},
   "outputs": [],
   "source": [
    "movie_query = \"\"\"\n",
    "LOAD CSV WITH HEADERS FROM 'file:///c:/Users/User/Desktop/movie_recommendations/movie_dataset.csv' AS row\n",
    "\n",
    "MERGE (m:Movie {id: row.index})\n",
    "SET \n",
    "    m.released = row.Released_Year,\n",
    "    m.title = row.Series_Title,\n",
    "    m.imdbRating = toFloat(row.IMDB_Rating),\n",
    "    m.certificate = row.Certificate,\n",
    "    m.overview = row.Overview,\n",
    "    m.runtime = row.Runtime\n",
    "\n",
    "MERGE (d:Person {name: row.Director})\n",
    "MERGE (d)-[:DIRECTED]->(m)\n",
    "\n",
    "MERGE (s1:Person {name: row.Star1})\n",
    "MERGE (s1)-[:ACTED_IN]->(m)\n",
    "\n",
    "MERGE (s2:Person {name: row.Star2})\n",
    "MERGE (s2)-[:ACTED_IN]->(m)\n",
    "\n",
    "MERGE (s3:Person {name: row.Star3})\n",
    "MERGE (s3)-[:ACTED_IN]->(m)\n",
    "\n",
    "MERGE (s4:Person {name: row.Star4})\n",
    "MERGE (s4)-[:ACTED_IN]->(m)\n",
    "\n",
    "WITH m, split(row.Genre, ',') AS genres\n",
    "UNWIND genres AS genre\n",
    "MERGE (g:Genre {name: trim(genre)})\n",
    "MERGE (m)-[:IN_GENRE]->(g)\n",
    "\"\"\""
   ]
  },
  {
   "cell_type": "code",
   "execution_count": null,
   "metadata": {},
   "outputs": [],
   "source": [
    " \n"
   ]
  },
  {
   "cell_type": "code",
   "execution_count": 8,
   "metadata": {},
   "outputs": [
    {
     "data": {
      "text/plain": [
       "'Node properties:\\nMovie {imdbRating: FLOAT, overview: STRING, title: STRING, certificate: STRING, runtime: STRING, id: STRING, released: STRING}\\nPerson {name: STRING}\\nGenre {name: STRING}\\nRelationship properties:\\n\\nThe relationships:\\n(:Movie)-[:IN_GENRE]->(:Genre)\\n(:Person)-[:DIRECTED]->(:Movie)\\n(:Person)-[:ACTED_IN]->(:Movie)'"
      ]
     },
     "execution_count": 8,
     "metadata": {},
     "output_type": "execute_result"
    }
   ],
   "source": [
    "graph.query(movie_query)\n",
    "graph.schema"
   ]
  },
  {
   "cell_type": "code",
   "execution_count": 9,
   "metadata": {},
   "outputs": [
    {
     "data": {
      "text/plain": [
       "[{'count(n)': 4223}]"
      ]
     },
     "execution_count": 9,
     "metadata": {},
     "output_type": "execute_result"
    }
   ],
   "source": [
    "cypher = \"\"\"\n",
    "MATCH (n)\n",
    "RETURN count(n)\"\"\"\n",
    "\n",
    "result = graph.query(cypher)\n",
    "result"
   ]
  },
  {
   "cell_type": "code",
   "execution_count": 10,
   "metadata": {},
   "outputs": [
    {
     "data": {
      "text/plain": [
       "GraphCypherQAChain(verbose=True, graph=<langchain_community.graphs.neo4j_graph.Neo4jGraph object at 0x00000168CB995A30>, cypher_generation_chain=LLMChain(prompt=PromptTemplate(input_variables=['question', 'schema'], template='Task:Generate Cypher statement to query a graph database.\\nInstructions:\\nUse only the provided relationship types and properties in the schema.\\nDo not use any other relationship types or properties that are not provided.\\nSchema:\\n{schema}\\nNote: Do not include any explanations or apologies in your responses.\\nDo not respond to any questions that might ask anything else than for you to construct a Cypher statement.\\nDo not include any text except the generated Cypher statement.\\n\\nThe question is:\\n{question}'), llm=Ollama(model='orca-mini')), qa_chain=LLMChain(prompt=PromptTemplate(input_variables=['context', 'question'], template=\"You are an assistant that helps to form nice and human understandable answers.\\nThe information part contains the provided information that you must use to construct an answer.\\nThe provided information is authoritative, you must never doubt it or try to use your internal knowledge to correct it.\\nMake the answer sound as a response to the question. Do not mention that you based the result on the given information.\\nHere is an example:\\n\\nQuestion: Which managers own Neo4j stocks?\\nContext:[manager:CTL LLC, manager:JANE STREET GROUP LLC]\\nHelpful Answer: CTL LLC, JANE STREET GROUP LLC owns Neo4j stocks.\\n\\nFollow this example when generating answers.\\nIf the provided information is empty, say that you don't know the answer.\\nInformation:\\n{context}\\n\\nQuestion: {question}\\nHelpful Answer:\"), llm=Ollama(model='orca-mini')), graph_schema='Node properties are the following:\\nMovie {imdbRating: FLOAT, overview: STRING, title: STRING, certificate: STRING, runtime: STRING, id: STRING, released: STRING},Person {name: STRING},Genre {name: STRING}\\nRelationship properties are the following:\\n\\nThe relationships are the following:\\n(:Movie)-[:IN_GENRE]->(:Genre),(:Person)-[:DIRECTED]->(:Movie),(:Person)-[:ACTED_IN]->(:Movie)')"
      ]
     },
     "execution_count": 10,
     "metadata": {},
     "output_type": "execute_result"
    }
   ],
   "source": [
    "from langchain.chains import GraphCypherQAChain\n",
    "chain = GraphCypherQAChain.from_llm(llm=llm , graph = graph, verbose = True)\n",
    "chain"
   ]
  },
  {
   "cell_type": "code",
   "execution_count": 43,
   "metadata": {},
   "outputs": [
    {
     "name": "stdout",
     "output_type": "stream",
     "text": [
      "[{'Director': 'Christopher Nolan'}]\n"
     ]
    }
   ],
   "source": []
  },
  {
   "cell_type": "code",
   "execution_count": 1,
   "metadata": {},
   "outputs": [
    {
     "ename": "NameError",
     "evalue": "name 'chain' is not defined",
     "output_type": "error",
     "traceback": [
      "\u001b[1;31m---------------------------------------------------------------------------\u001b[0m",
      "\u001b[1;31mNameError\u001b[0m                                 Traceback (most recent call last)",
      "Cell \u001b[1;32mIn[1], line 1\u001b[0m\n\u001b[1;32m----> 1\u001b[0m response \u001b[38;5;241m=\u001b[39m \u001b[43mchain\u001b[49m\u001b[38;5;241m.\u001b[39minvoke({\u001b[38;5;124m\"\u001b[39m\u001b[38;5;124mquery\u001b[39m\u001b[38;5;124m\"\u001b[39m:\u001b[38;5;124m\"\u001b[39m\u001b[38;5;124minception released in which year\u001b[39m\u001b[38;5;124m\"\u001b[39m})\n\u001b[0;32m      2\u001b[0m response\n",
      "\u001b[1;31mNameError\u001b[0m: name 'chain' is not defined"
     ]
    }
   ],
   "source": [
    "response = chain.invoke({\"query\":\"inception released in which year\"})\n",
    "response"
   ]
  },
  {
   "cell_type": "code",
   "execution_count": 27,
   "metadata": {},
   "outputs": [],
   "source": [
    "from langchain_experimental.graph_transformers import LLMGraphTransformer\n",
    "llm_transformer = LLMGraphTransformer(llm=llm)\n",
    "\n",
    "graph_documents = llm_transformer.convert_to_graph_documents(documents)"
   ]
  },
  {
   "cell_type": "code",
   "execution_count": 28,
   "metadata": {},
   "outputs": [
    {
     "data": {
      "text/plain": [
       "[GraphDocument(nodes=[], relationships=[], source=Document(page_content='Pichai was born in Madurai, Tamil Nadu, India, to a Tamil Brahmin family. His mother, Lakshmi, was a \\nstenographer, and his father, Regunatha Pichai, was an electrical engineer at GEC, the British conglomerate. \\nPichai completed schooling in Jawahar Vidyalaya Senior Secondary School in Ashok Nagar, Chennai and completed \\nthe Class XII from Vana Vani school at IIT Madras. He earned his degree from IIT Kharagpur in metallurgical \\nengineering and is a distinguished alumnus from that institution. He holds an M.S. from Stanford University in\\n materials science and engineering, and an MBA from the Wharton School of the University of Pennsylvania, where \\n he was named a Siebel Scholar and a Palmer Scholar, respectively.'))]"
      ]
     },
     "execution_count": 28,
     "metadata": {},
     "output_type": "execute_result"
    }
   ],
   "source": [
    "graph_documents"
   ]
  },
  {
   "cell_type": "code",
   "execution_count": 10,
   "metadata": {},
   "outputs": [
    {
     "name": "stdout",
     "output_type": "stream",
     "text": [
      "I want to find a name for a indian boy baby. \n",
      "                Suggest top 5 popular names for the baby.\n",
      "                Return it as a comma separated list.\n"
     ]
    },
    {
     "data": {
      "text/plain": [
       "' Sure, here are some popular Indian boy names along with their corresponding rank in terms of popularity:\\n\\n1. Ayush\\n2. Aarav\\n3. Ethan\\n4. Ishaan\\n5. Pathaan'"
      ]
     },
     "execution_count": 10,
     "metadata": {},
     "output_type": "execute_result"
    }
   ],
   "source": [
    "from langchain_community.llms import Ollama\n",
    "from langchain_core import prompts\n",
    "\n",
    "\n",
    "prompt_template = prompts.PromptTemplate(\n",
    "    input_variables=['gender', 'nationality'],\n",
    "    template=\"\"\"I want to find a name for a {nationality} {gender} baby. \n",
    "                Suggest top 5 popular names for the baby.\n",
    "                Return it as a comma separated list.\"\"\"\n",
    ")\n",
    "\n",
    "llm = Ollama(model='orca-mini')\n",
    "prompt = prompt_template.format(gender='boy', nationality='indian')\n",
    "print(prompt)\n",
    "response = llm.invoke(prompt)\n",
    "response"
   ]
  },
  {
   "cell_type": "code",
   "execution_count": null,
   "metadata": {},
   "outputs": [],
   "source": []
  }
 ],
 "metadata": {
  "kernelspec": {
   "display_name": "dharani_v",
   "language": "python",
   "name": "python3"
  },
  "language_info": {
   "codemirror_mode": {
    "name": "ipython",
    "version": 3
   },
   "file_extension": ".py",
   "mimetype": "text/x-python",
   "name": "python",
   "nbconvert_exporter": "python",
   "pygments_lexer": "ipython3",
   "version": "3.9.19"
  }
 },
 "nbformat": 4,
 "nbformat_minor": 2
}
